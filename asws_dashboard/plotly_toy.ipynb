{
 "cells": [
  {
   "cell_type": "code",
   "execution_count": 1,
   "id": "a2cb20b7-8d9a-4063-b329-5a0b40715bec",
   "metadata": {
    "lines_to_next_cell": 2
   },
   "outputs": [
    {
     "ename": "ModuleNotFoundError",
     "evalue": "No module named 'dash'",
     "output_type": "error",
     "traceback": [
      "\u001b[1;31m---------------------------------------------------------------------------\u001b[0m",
      "\u001b[1;31mModuleNotFoundError\u001b[0m                       Traceback (most recent call last)",
      "Cell \u001b[1;32mIn[1], line 4\u001b[0m\n\u001b[0;32m      1\u001b[0m \u001b[38;5;66;03m# Run this app with `python app.py` and\u001b[39;00m\n\u001b[0;32m      2\u001b[0m \u001b[38;5;66;03m# visit http://127.0.0.1:8050/ in your web browser.\u001b[39;00m\n\u001b[1;32m----> 4\u001b[0m \u001b[38;5;28;01mfrom\u001b[39;00m \u001b[38;5;21;01mdash\u001b[39;00m \u001b[38;5;28;01mimport\u001b[39;00m Dash, html, dash_table, dcc, callback, Output, Input\n\u001b[0;32m      5\u001b[0m \u001b[38;5;28;01mimport\u001b[39;00m \u001b[38;5;21;01mplotly\u001b[39;00m\u001b[38;5;21;01m.\u001b[39;00m\u001b[38;5;21;01mexpress\u001b[39;00m \u001b[38;5;28;01mas\u001b[39;00m \u001b[38;5;21;01mpx\u001b[39;00m\n\u001b[0;32m      6\u001b[0m \u001b[38;5;28;01mimport\u001b[39;00m \u001b[38;5;21;01mpandas\u001b[39;00m \u001b[38;5;28;01mas\u001b[39;00m \u001b[38;5;21;01mpd\u001b[39;00m\n",
      "\u001b[1;31mModuleNotFoundError\u001b[0m: No module named 'dash'"
     ]
    }
   ],
   "source": [
    "# Run this app with `python app.py` and\n",
    "# visit http://127.0.0.1:8050/ in your web browser.\n",
    "\n",
    "from dash import Dash, html, dash_table, dcc, callback, Output, Input\n",
    "import plotly.express as px\n",
    "import pandas as pd\n",
    "import dash_bootstrap_components as dbc\n",
    "\n",
    "\n",
    "app = Dash()\n",
    "\n",
    "colors = {\n",
    "    'background': '#FFFFFF',\n",
    "    'text': '#154360'\n",
    "}\n",
    "\n",
    "# assume you have a \"long-form\" data frame\n",
    "# see https://plotly.com/python/px-arguments/ for more options\n",
    "df = pd.DataFrame({\n",
    "    \"Fruit\": [\"Apples\", \"Oranges\", \"Bananas\", \"Apples\", \"Oranges\", \"Bananas\"],\n",
    "    \"Amount\": [4, 1, 2, 2, 4, 5],\n",
    "    \"City\": [\"SF\", \"SF\", \"SF\", \"Montreal\", \"Montreal\", \"Montreal\"]\n",
    "})\n",
    "\n",
    "fig = px.bar(df, x=\"Fruit\", y=\"Amount\", color=\"City\", barmode=\"group\")\n",
    "\n",
    "fig.update_layout(\n",
    "    plot_bgcolor=colors['background'],\n",
    "    paper_bgcolor=colors['background'],\n",
    "    font_color=colors['text']\n",
    ")\n",
    "\n",
    "app.layout = dbc.Container([\n",
    "    # Title\n",
    "    dbc.Row([\n",
    "        html.Div(style={'backgroundColor': colors['background']}, children=[\n",
    "            html.H1(\n",
    "                children='Automated Snow Weather Station Dashboard',\n",
    "                style={\n",
    "                    'textAlign': 'left',\n",
    "                    'color': colors['text'],\n",
    "                    'font-family':'Arial, Helvetica, sans-serif',\n",
    "                    'font-size': '40px',\n",
    "                    'font-weight': 'bold'\n",
    "                }\n",
    "            )\n",
    "        ])\n",
    "    ]),\n",
    "    # Tabs\n",
    "    dbc.Row([\n",
    "        html.Div([\n",
    "        dcc.Tabs(id='tabs', value='tab-1', children=[\n",
    "            dcc.Tab(label='Station Health', value='tab-1'),\n",
    "            dcc.Tab(label='7 Day Inter-Station', value='tab-2'),\n",
    "            dcc.Tab(label='Historical', value='tab-3') \n",
    "            ]),\n",
    "        ])\n",
    "    ]),\n",
    "\n",
    "    # Content\n",
    "    dbc.Row([\n",
    "        # Dropdown\n",
    "        dbc.Col([\n",
    "            html.Div([\n",
    "                dcc.Dropdown(['NYC', 'MTL', 'SF'], 'NYC', id='demo-dropdown'),\n",
    "                html.Div(id='dd-output-container')\n",
    "            ])\n",
    "        ], width=1),\n",
    "        # Plot\n",
    "        dbc.Col([\n",
    "             dcc.Graph(\n",
    "                id='example-graph-2',\n",
    "                figure=fig\n",
    "            )\n",
    "        ], width=1)\n",
    "    ])\n",
    "])\n",
    "\n",
    "if __name__ == '__main__':\n",
    "    app.run(debug=True)"
   ]
  }
 ],
 "metadata": {
  "jupytext": {
   "formats": "ipynb,py:percent"
  },
  "kernelspec": {
   "display_name": "Python 3 (ipykernel)",
   "language": "python",
   "name": "python3"
  },
  "language_info": {
   "codemirror_mode": {
    "name": "ipython",
    "version": 3
   },
   "file_extension": ".py",
   "mimetype": "text/x-python",
   "name": "python",
   "nbconvert_exporter": "python",
   "pygments_lexer": "ipython3",
   "version": "3.12.7"
  }
 },
 "nbformat": 4,
 "nbformat_minor": 5
}
